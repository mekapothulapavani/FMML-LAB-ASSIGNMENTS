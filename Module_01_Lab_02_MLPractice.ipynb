{
  "nbformat": 4,
  "nbformat_minor": 0,
  "metadata": {
    "colab": {
      "provenance": [],
      "toc_visible": true,
      "include_colab_link": true
    },
    "kernelspec": {
      "name": "python3",
      "display_name": "Python 3"
    },
    "language_info": {
      "name": "python"
    }
  },
  "cells": [
    {
      "cell_type": "markdown",
      "metadata": {
        "id": "view-in-github",
        "colab_type": "text"
      },
      "source": [
        "<a href=\"https://colab.research.google.com/github/mekapothulapavani/FMML-LAB-ASSIGNMENTS/blob/main/Module_01_Lab_02_MLPractice.ipynb\" target=\"_parent\"><img src=\"https://colab.research.google.com/assets/colab-badge.svg\" alt=\"Open In Colab\"/></a>"
      ]
    },
    {
      "cell_type": "markdown",
      "metadata": {
        "id": "3Eu9VZbF01eq"
      },
      "source": [
        "# Machine learning terms and metrics\n",
        "\n",
        "FMML Module 1, Lab 2<br>\n",
        "\n",
        "\n",
        " In this lab, we will show a part of the ML pipeline by extracting features, training and testing"
      ]
    },
    {
      "cell_type": "code",
      "metadata": {
        "id": "8qBvyEem0vLi"
      },
      "source": [
        "import matplotlib.pyplot as plt\n",
        "import numpy as np\n",
        "from sklearn import datasets\n",
        "# set randomseed\n",
        "rng = np.random.default_rng(seed=42)"
      ],
      "execution_count": 1,
      "outputs": []
    },
    {
      "cell_type": "markdown",
      "metadata": {
        "id": "u3t59g5s1HfC"
      },
      "source": [
        "In this lab, we will use the California Housing dataset. There are 20640 samples, each with 8 attributes like income of the block, age of the houses per district etc. The task is to predict the cost of the houses per district.\n",
        "\n",
        "Let us download and examine the dataset."
      ]
    },
    {
      "cell_type": "code",
      "metadata": {
        "id": "8LpqjN991GGJ",
        "colab": {
          "base_uri": "https://localhost:8080/"
        },
        "outputId": "f0b78804-9691-439f-dd7f-ba142dc9bb5b"
      },
      "source": [
        " dataset =  datasets.fetch_california_housing()\n",
        " # print(dataset.DESCR)  # uncomment this if you want to know more about this dataset\n",
        " # print(dataset.keys())  # if you want to know what else is there in this dataset\n",
        " dataset.target = dataset.target.astype(np.int) # so that we can classify\n",
        " print(dataset.data.shape)\n",
        " print(dataset.target.shape)"
      ],
      "execution_count": 2,
      "outputs": [
        {
          "output_type": "stream",
          "name": "stdout",
          "text": [
            "(20640, 8)\n",
            "(20640,)\n"
          ]
        },
        {
          "output_type": "stream",
          "name": "stderr",
          "text": [
            "<ipython-input-2-60ae2e9a125e>:4: DeprecationWarning: `np.int` is a deprecated alias for the builtin `int`. To silence this warning, use `int` by itself. Doing this will not modify any behavior and is safe. When replacing `np.int`, you may wish to use e.g. `np.int64` or `np.int32` to specify the precision. If you wish to review your current use, check the release note link for additional information.\n",
            "Deprecated in NumPy 1.20; for more details and guidance: https://numpy.org/devdocs/release/1.20.0-notes.html#deprecations\n",
            "  dataset.target = dataset.target.astype(np.int) # so that we can classify\n"
          ]
        }
      ]
    },
    {
      "cell_type": "markdown",
      "metadata": {
        "id": "iNx4174W5xRg"
      },
      "source": [
        "Here is a function for calculating the 1-nearest neighbours"
      ]
    },
    {
      "cell_type": "code",
      "metadata": {
        "id": "07zpydQj1hIQ"
      },
      "source": [
        "def NN1(traindata, trainlabel, query):\n",
        "  diff  = traindata - query  # find the difference between features. Numpy automatically takes care of the size here\n",
        "  sq = diff*diff # square the differences\n",
        "  dist = sq.sum(1) # add up the squares\n",
        "  label = trainlabel[np.argmin(dist)] # our predicted label is the label of the training data which has the least distance from the query\n",
        "  return label\n",
        "\n",
        "def NN(traindata, trainlabel, testdata):\n",
        "  # we will run nearest neighbour for each sample in the test data\n",
        "  # and collect the predicted classes in an array using list comprehension\n",
        "  predlabel = np.array([NN1(traindata, trainlabel, i) for i in testdata])\n",
        "  return predlabel"
      ],
      "execution_count": 3,
      "outputs": []
    },
    {
      "cell_type": "markdown",
      "metadata": {
        "id": "03JktkfIGaje"
      },
      "source": [
        "We will also define a 'random classifier', which randomly allots labels to each sample"
      ]
    },
    {
      "cell_type": "code",
      "metadata": {
        "id": "fogWAtjyGhAH"
      },
      "source": [
        "def RandomClassifier(traindata, trainlabel, testdata):\n",
        "  # in reality, we don't need these arguments\n",
        "\n",
        "  classes = np.unique(trainlabel)\n",
        "  rints = rng.integers(low=0, high=len(classes), size=len(testdata))\n",
        "  predlabel = classes[rints]\n",
        "  return predlabel"
      ],
      "execution_count": 4,
      "outputs": []
    },
    {
      "cell_type": "markdown",
      "metadata": {
        "id": "1Hjf1KHs7fU5"
      },
      "source": [
        "Let us define a metric 'Accuracy' to see how good our learning algorithm is. Accuracy is the ratio of the number of correctly classified samples to the total number of samples. The higher the accuracy, the better the algorithm."
      ]
    },
    {
      "cell_type": "code",
      "metadata": {
        "id": "ouuCqWU07bz-"
      },
      "source": [
        "def Accuracy(gtlabel, predlabel):\n",
        "  assert len(gtlabel)==len(predlabel), \"Length of the groundtruth labels and predicted labels should be the same\"\n",
        "  correct = (gtlabel==predlabel).sum() # count the number of times the groundtruth label is equal to the predicted label.\n",
        "  return correct/len(gtlabel)"
      ],
      "execution_count": 5,
      "outputs": []
    },
    {
      "cell_type": "markdown",
      "metadata": {
        "id": "4vJFwBFa9Klw"
      },
      "source": [
        "Let us make a function to split the dataset with the desired probability."
      ]
    },
    {
      "cell_type": "code",
      "metadata": {
        "id": "Ko0VzpSM2Tdi"
      },
      "source": [
        "def split(data, label, percent):\n",
        "  # generate a random number for each sample\n",
        "  rnd = rng.random(len(label))\n",
        "  split1 = rnd<percent\n",
        "  split2 = rnd>=percent\n",
        "  split1data = data[split1,:]\n",
        "  split1label = label[split1]\n",
        "  split2data = data[split2,:]\n",
        "  split2label = label[split2]\n",
        "  return split1data, split1label, split2data, split2label"
      ],
      "execution_count": 6,
      "outputs": []
    },
    {
      "cell_type": "markdown",
      "metadata": {
        "id": "AcK3LEAJ_LGC"
      },
      "source": [
        "We will reserve 20% of our dataset as the test set. We will not change this portion throughout our experiments"
      ]
    },
    {
      "cell_type": "code",
      "metadata": {
        "id": "bBZkHBLJ1iU-",
        "colab": {
          "base_uri": "https://localhost:8080/"
        },
        "outputId": "f9ada038-ac2a-4387-84d5-fbdfb1936fa1"
      },
      "source": [
        "testdata, testlabel, alltraindata, alltrainlabel = split(dataset.data, dataset.target, 20/100)\n",
        "print('Number of test samples = ', len(testlabel))\n",
        "print('Number of other samples = ', len(alltrainlabel))\n",
        "print('Percent of test data = ', len(testlabel)*100/len(dataset.target),'%')"
      ],
      "execution_count": 7,
      "outputs": [
        {
          "output_type": "stream",
          "name": "stdout",
          "text": [
            "Number of test samples =  4144\n",
            "Number of other samples =  16496\n",
            "Percent of test data =  20.07751937984496 %\n"
          ]
        }
      ]
    },
    {
      "cell_type": "markdown",
      "metadata": {
        "id": "a6Ss0Z6IAGNV"
      },
      "source": [
        "## Experiments with splits\n",
        "\n",
        "Let us reserve some of our train data as a validation set"
      ]
    },
    {
      "cell_type": "code",
      "metadata": {
        "id": "WFew2iry_7W7"
      },
      "source": [
        "traindata, trainlabel, valdata, vallabel = split(alltraindata, alltrainlabel, 75/100)"
      ],
      "execution_count": 8,
      "outputs": []
    },
    {
      "cell_type": "markdown",
      "metadata": {
        "id": "60hiu4clFN1i"
      },
      "source": [
        "What is the accuracy of our classifiers on the train dataset?"
      ]
    },
    {
      "cell_type": "code",
      "metadata": {
        "id": "DBlZDTHUFTZx",
        "colab": {
          "base_uri": "https://localhost:8080/"
        },
        "outputId": "0889a93d-af2c-4cc3-81a9-ad4eb4e5edbd"
      },
      "source": [
        "trainpred = NN(traindata, trainlabel, traindata)\n",
        "trainAccuracy = Accuracy(trainlabel, trainpred)\n",
        "print(\"Train accuracy using nearest neighbour is \", trainAccuracy)\n",
        "\n",
        "trainpred = RandomClassifier(traindata, trainlabel, traindata)\n",
        "trainAccuracy = Accuracy(trainlabel, trainpred)\n",
        "print(\"Train accuracy using random classifier is \", trainAccuracy)"
      ],
      "execution_count": 9,
      "outputs": [
        {
          "output_type": "stream",
          "name": "stdout",
          "text": [
            "Train accuracy using nearest neighbour is  1.0\n",
            "Train accuracy using random classifier is  0.164375808538163\n"
          ]
        }
      ]
    },
    {
      "cell_type": "markdown",
      "metadata": {
        "id": "7h08-9gJDtSy"
      },
      "source": [
        "For nearest neighbour, the train accuracy is always 1. The accuracy of the random classifier is close to 1/(number of classes) which is 0.1666 in our case.\n",
        "\n",
        "Let us predict the labels for our validation set and get the accuracy"
      ]
    },
    {
      "cell_type": "code",
      "metadata": {
        "id": "4h7bXoW_2H3v",
        "colab": {
          "base_uri": "https://localhost:8080/"
        },
        "outputId": "e3d50501-3e75-4f0a-9dc5-002b27dcd52f"
      },
      "source": [
        "valpred = NN(traindata, trainlabel, valdata)\n",
        "valAccuracy = Accuracy(vallabel, valpred)\n",
        "print(\"Validation accuracy using nearest neighbour is \", valAccuracy)\n",
        "\n",
        "valpred = RandomClassifier(traindata, trainlabel, valdata)\n",
        "valAccuracy = Accuracy(vallabel, valpred)\n",
        "print(\"Validation accuracy using random classifier is \", valAccuracy)"
      ],
      "execution_count": 10,
      "outputs": [
        {
          "output_type": "stream",
          "name": "stdout",
          "text": [
            "Validation accuracy using nearest neighbour is  0.34108527131782945\n",
            "Validation accuracy using random classifier is  0.1688468992248062\n"
          ]
        }
      ]
    },
    {
      "cell_type": "markdown",
      "metadata": {
        "id": "py9bLguFEjfg"
      },
      "source": [
        "Validation accuracy of nearest neighbour is considerably less than its train accuracy while the validation accuracy of random classifier is the same. However, the validation accuracy of nearest neighbour is twice that of the random classifier.\n",
        "\n",
        "Now let us try another random split and check the validation accuracy"
      ]
    },
    {
      "cell_type": "code",
      "metadata": {
        "id": "ujm3cyYzEntE",
        "colab": {
          "base_uri": "https://localhost:8080/"
        },
        "outputId": "36f791c0-09cc-40a7-99ea-5db0c19ed2e7"
      },
      "source": [
        "traindata, trainlabel, valdata, vallabel = split(alltraindata, alltrainlabel, 75/100)\n",
        "valpred = NN(traindata, trainlabel, valdata)\n",
        "valAccuracy = Accuracy(vallabel, valpred)\n",
        "print(\"Validation accuracy of nearest neighbour is \", valAccuracy)"
      ],
      "execution_count": 11,
      "outputs": [
        {
          "output_type": "stream",
          "name": "stdout",
          "text": [
            "Validation accuracy of nearest neighbour is  0.34048257372654156\n"
          ]
        }
      ]
    },
    {
      "cell_type": "markdown",
      "metadata": {
        "id": "oSOx7U83EKie"
      },
      "source": [
        "You can run the above cell multiple times to try with different random splits.\n",
        "We notice that the accuracy is different for each run, but close together.\n",
        "\n",
        "Now let us compare it with the accuracy we get on the test dataset."
      ]
    },
    {
      "cell_type": "code",
      "metadata": {
        "id": "PNEZ5ToYBEDW",
        "colab": {
          "base_uri": "https://localhost:8080/"
        },
        "outputId": "1a8a8551-90fd-4ae4-eab2-1f930b5be74e"
      },
      "source": [
        "testpred = NN(alltraindata, alltrainlabel, testdata)\n",
        "testAccuracy = Accuracy(testlabel, testpred)\n",
        "print('Test accuracy is ', testAccuracy)"
      ],
      "execution_count": 12,
      "outputs": [
        {
          "output_type": "stream",
          "name": "stdout",
          "text": [
            "Test accuracy is  0.34917953667953666\n"
          ]
        }
      ]
    },
    {
      "cell_type": "markdown",
      "metadata": {
        "id": "w3dGD531K3gH"
      },
      "source": [
        "### Try it out for yourself and answer:\n",
        "1. How is the accuracy of the validation set affected if we increase the percentage of validation set? What happens when we reduce it?\n",
        "2. How does the size of the train and validation set affect how well we can predict the accuracy on the test set using the validation set?\n",
        "3. What do you think is a good percentage to reserve for the validation set so that thest two factors are balanced?\n",
        "\n",
        "Answer for both nearest neighbour and random classifier. You can note down the values for your experiments and plot a graph using  <a href=https://matplotlib.org/stable/gallery/lines_bars_and_markers/step_demo.html#sphx-glr-gallery-lines-bars-and-markers-step-demo-py>plt.plot<href>. Check also for extreme values for splits, like 99.9% or 0.1%"
      ]
    },
    {
      "cell_type": "markdown",
      "source": [
        "#1st Q"
      ],
      "metadata": {
        "id": "8o49LL0aNgd-"
      }
    },
    {
      "cell_type": "markdown",
      "source": [
        "\n",
        "The accuracy of a machine learning model's validation set can be affected by the percentage of data allocated to the validation set. This allocation is typically determined by the train-validation-test split ratio, with the most common ratios being 70-30, 80-20, or 90-10. Here's how changing the percentage of the validation set can impact model validation:\n",
        "\n",
        "Increase in the Percentage of Validation Set:\n",
        "\n",
        "Pros:\n",
        "More data in the validation set means you have a larger sample to evaluate the model's performance, which can lead to a more reliable estimation of how well the model generalizes to unseen data.\n",
        "It can help in identifying overfitting. If the validation accuracy remains high even with a larger validation set, it suggests that the model might not be overfitting to the training data.\n",
        "Cons:\n",
        "As you increase the validation set size, the training set size decreases proportionally. With less data for training, the model might not learn as effectively, which can result in underfitting.\n",
        "If your dataset is small to begin with, increasing the validation set percentage can lead to even smaller training sets, which may negatively impact the model's performance.\n",
        "Reduction in the Percentage of Validation Set:\n",
        "\n",
        "Pros:\n",
        "A smaller validation set means more data is available for training, which can help the model learn better and potentially lead to improved performance.\n",
        "If the dataset is large and the validation set is already sufficiently representative, reducing its size may not have a significant impact on the model's evaluation.\n",
        "Cons:\n",
        "With a smaller validation set, the evaluation of the model's performance may be less reliable. Validation accuracy can be sensitive to the specific data points in the validation set, and a small validation set might not provide a robust assessment of generalization.\n",
        "It can be challenging to detect overfitting when the validation set is small. The model may perform well on the validation set by chance, even if it is overfitting the training data.\n",
        "The choice of the percentage of the validation set should be based on the specific characteristics of your dataset and the goals of your machine learning project. A common practice is to start with a moderate split (e.g., 80-20) and then adjust it based on empirical results and the available data. Techniques like cross-validation can also be used to mitigate some of the issues associated with small validation sets.\n",
        "\n",
        "In summary, increasing the percentage of the validation set can provide a more reliable estimate of model performance but may lead to smaller training sets and potential underfitting. Reducing the percentage of the validation set can result in better training but may yield less reliable model evaluation. The choice should be made carefully based on the trade-offs and requirements of your specific project.\n",
        "\n",
        "\n",
        "\n",
        "\n"
      ],
      "metadata": {
        "id": "Zt_zvxRBOFlq"
      }
    },
    {
      "cell_type": "code",
      "source": [
        "#2ND Q"
      ],
      "metadata": {
        "id": "W5pwad1kOS8a"
      },
      "execution_count": null,
      "outputs": []
    },
    {
      "cell_type": "markdown",
      "source": [
        "The size of the train and validation sets can indeed affect how well we can predict the accuracy on the test set using the validation set. This relationship is influenced by several factors:\n",
        "\n",
        "Sample Size and Representativeness: The accuracy estimated on the validation set is a statistical estimate of how well the model is likely to perform on unseen data, such as the test set. If the validation set is small or unrepresentative of the overall data distribution, its accuracy may not be a reliable predictor of the test set accuracy. In such cases, increasing the size of the validation set can lead to more reliable predictions.\n",
        "\n",
        "Overfitting Detection: A larger validation set can provide a more robust signal for detecting overfitting. If the model is overfitting the training data, it's more likely to be identified when the validation set is sufficiently large. On the other hand, a small validation set may not capture the overfitting patterns effectively, leading to overly optimistic estimates of the model's performance.\n",
        "\n",
        "Generalization Robustness: A smaller training set, resulting from a larger validation set, can potentially hinder the model's ability to generalize well. If the training set is too small, the model may not learn the underlying patterns in the data effectively, leading to poorer performance on both the validation and test sets.\n",
        "\n",
        "Stability of Estimates: In statistical terms, as the sample size (validation set size) increases, the margin of error in estimating the model's accuracy decreases. This means that with a larger validation set, you're more likely to get a more stable and accurate estimate of the model's performance.\n",
        "\n",
        "Resource Constraints: The choice of the train-validation split ratio may also be influenced by resource constraints such as computational power and time. Sometimes, practical limitations might necessitate a smaller validation set to allow for more extensive model experimentation.\n",
        "\n",
        "In summary, the size of the train and validation sets can impact how well we can predict the accuracy on the test set using the validation set. Larger validation sets generally provide more reliable estimates of model performance, especially for detecting overfitting, but they may come at the cost of smaller training sets. The choice should be made based on the specific characteristics of your dataset, the goals of your project, and any resource constraints you might have. Cross-validation techniques can also be used to mitigate the impact of small validation sets on performance estimation.\n",
        "\n",
        "\n",
        "\n",
        "\n",
        "\n"
      ],
      "metadata": {
        "id": "bxruFFwhOWHz"
      }
    },
    {
      "cell_type": "markdown",
      "source": [
        "#3RD Q"
      ],
      "metadata": {
        "id": "kDLCUg1bOlpi"
      }
    },
    {
      "cell_type": "markdown",
      "source": [
        "The accuracy of the validation set can be affected by the percentage of data allocated to the validation set. This allocation is typically determined by the train-validation-test split ratio, with common ratios being 70-30, 80-20, or 90-10. Here's how changing the percentage of the validation set can impact validation accuracy:\n",
        "\n",
        "Increase in the Percentage of Validation Set:\n",
        "\n",
        "Pros:\n",
        "More data in the validation set means you have a larger sample to evaluate the model's performance, which can lead to a more reliable estimation of how well the model generalizes to unseen data.\n",
        "It can help in identifying overfitting. If the validation accuracy remains high even with a larger validation set, it suggests that the model might not be overfitting to the training data.\n",
        "Cons:\n",
        "As you increase the validation set size, the training set size decreases proportionally. With less data for training, the model might not learn as effectively, which can result in underfitting.\n",
        "If your dataset is small to begin with, increasing the validation set percentage can lead to even smaller training sets, which may negatively impact the model's performance.\n",
        "Reduction in the Percentage of Validation Set:\n",
        "\n",
        "Pros:\n",
        "A smaller validation set means more data is available for training, which can help the model learn better and potentially lead to improved performance.\n",
        "If the dataset is large and the validation set is already sufficiently representative, reducing its size may not have a significant impact on the model's evaluation.\n",
        "Cons:\n",
        "With a smaller validation set, the evaluation of the model's performance may be less reliable. Validation accuracy can be sensitive to the specific data points in the validation set, and a small validation set might not provide a robust assessment of generalization.\n",
        "It can be challenging to detect overfitting when the validation set is small. The model may perform well on the validation set by chance, even if it is overfitting the training data.\n",
        "The choice of the percentage of the validation set should be based on the specific characteristics of your dataset and the goals of your machine learning project. A common practice is to start with a moderate split (e.g., 80-20) and then adjust it based on empirical results and the available data. Techniques like cross-validation can also be used to mitigate some of the issues associated with small validation sets.\n",
        "\n",
        "In summary, increasing the percentage of the validation set can provide a more reliable estimate of model performance but may lead to smaller training sets and potential underfitting. Reducing the percentage of the validation set can result in better training but may yield less reliable model evaluation. The choice should be made carefully based on the trade-offs and requirements of your specific project.\n",
        "\n",
        "\n",
        "\n",
        "\n",
        "\n"
      ],
      "metadata": {
        "id": "apqB8W86OoBG"
      }
    },
    {
      "cell_type": "markdown",
      "metadata": {
        "id": "PnYvkAZLQY7h"
      },
      "source": [
        "## Multiple Splits\n",
        "\n",
        "One way to get more accurate estimates for the test accuracy is by using <b>crossvalidation</b>. Here, we will try a simple version, where we do multiple train/val splits and take the average of validation accuracies as the test accuracy estimation. Here is a function for doing this. Note that this function will take a long time to execute."
      ]
    },
    {
      "cell_type": "code",
      "metadata": {
        "id": "E4nGCUQXBTzo"
      },
      "source": [
        "# you can use this function for random classifier also\n",
        "def AverageAccuracy(alldata, alllabel, splitpercent, iterations, classifier=NN):\n",
        "  accuracy = 0\n",
        "  for ii in range(iterations):\n",
        "    traindata, trainlabel, valdata, vallabel = split(alldata, alllabel, splitpercent)\n",
        "    valpred = classifier(traindata, trainlabel, valdata)\n",
        "    accuracy += Accuracy(vallabel, valpred)\n",
        "  return accuracy/iterations # average of all accuracies"
      ],
      "execution_count": 13,
      "outputs": []
    },
    {
      "cell_type": "code",
      "metadata": {
        "id": "H3qtNar7Bbik",
        "colab": {
          "base_uri": "https://localhost:8080/"
        },
        "outputId": "49fc8492-396f-4b87-d4d2-00a817c3a4b6"
      },
      "source": [
        "print('Average validation accuracy is ', AverageAccuracy(alltraindata, alltrainlabel, 75/100, 10, classifier=NN))\n",
        "testpred = NN(alltraindata, alltrainlabel, testdata)\n",
        "print('test accuracy is ',Accuracy(testlabel, testpred) )"
      ],
      "execution_count": 14,
      "outputs": [
        {
          "output_type": "stream",
          "name": "stdout",
          "text": [
            "Average validation accuracy is  0.33584635395170215\n",
            "test accuracy is  0.34917953667953666\n"
          ]
        }
      ]
    },
    {
      "cell_type": "markdown",
      "metadata": {
        "id": "33GIn4x5VH-d"
      },
      "source": [
        "This is a very simple way of doing cross-validation. There are many well-known algorithms for cross-validation, like k-fold cross-validation, leave-one-out etc. This will be covered in detail in a later module. For more information about cross-validation, check <a href=https://en.wikipedia.org/wiki/Cross-validation_(statistics)>Cross-validatioin (Wikipedia)</a>\n",
        "\n",
        "### Questions\n",
        "1. Does averaging the validation accuracy across multiple splits give more consistent results?\n",
        "2. Does it give more accurate estimate of test accuracy?\n",
        "3. What is the effect of the number of iterations on the estimate? Do we get a better estimate with higher iterations?\n",
        "4. Consider the results you got for the previous questions. Can we deal with a very small train dataset or validation dataset by increasing the iterations?\n"
      ]
    },
    {
      "cell_type": "markdown",
      "source": [
        "#1ST Q"
      ],
      "metadata": {
        "id": "sMvjoY5nO-Ud"
      }
    },
    {
      "cell_type": "markdown",
      "source": [
        "Yes, averaging the validation accuracy across multiple splits of your data can provide more consistent and reliable results when evaluating the performance of a machine learning model. This technique is commonly known as cross-validation.\n",
        "\n",
        "Cross-validation involves splitting the dataset into multiple subsets or \"folds.\" The model is trained and validated multiple times, each time using a different fold as the validation set and the remaining folds as the training set. The results, such as accuracy, from each of these iterations are then averaged to obtain a more robust estimate of the model's performance. Common types of cross-validation include k-fold cross-validation and stratified k-fold cross-validation.\n",
        "\n",
        "Here are some benefits of using cross-validation:\n",
        "\n",
        "Reduced Variance: By averaging results across multiple validation sets, cross-validation reduces the variance in the performance estimate. This means that the evaluation is less dependent on the specific data points in a single validation set, making it a more stable measure of the model's generalization performance.\n",
        "\n",
        "Better Detection of Overfitting: Cross-validation can provide a more accurate assessment of a model's tendency to overfit. If a model consistently performs\n",
        "\n",
        "\n"
      ],
      "metadata": {
        "id": "ekY7CUqyPAmD"
      }
    },
    {
      "cell_type": "markdown",
      "source": [
        "#2ND Q"
      ],
      "metadata": {
        "id": "2Igp3Bf1PZ5L"
      }
    },
    {
      "cell_type": "markdown",
      "source": [
        "Cross-validation does not directly give you a more accurate estimate of test accuracy; instead, it provides a more accurate estimate of how your model is likely to perform on unseen data. This estimate can be valuable because it helps you understand how well your model generalizes to new, unseen examples.\n",
        "\n",
        "Here's how it works:\n",
        "\n",
        "Training and Validation Within Cross-Validation: In a typical cross-validation procedure, your dataset is divided into multiple subsets or \"folds.\" The model is trained on a combination of these folds (the training set) and evaluated on the remaining fold (the validation set). This process is repeated multiple times, with each fold serving as the validation set in turn. This results in multiple accuracy scores, one for each validation fold.\n",
        "\n",
        "Averaging for Generalization Estimate: After all iterations of training and validation are completed, the accuracy scores obtained from each fold are averaged. This average accuracy is considered an estimate of how well your model is likely to perform on unseen data from the same population as your dataset.\n",
        "\n",
        "Comparison to Test Set: While cross-validation provides a good estimate of generalization performance, the actual \"test accuracy\" is typically determined by evaluating the model on a separate, previously unseen test set. The test set is not used during model development, and its purpose is to simulate how well the model will perform in real-world scenarios with new data.\n",
        "\n",
        "So, cross-validation doesn't directly give you the test accuracy but gives you a strong indication of how well your model is expected to perform on similar, unseen data. If your cross-validation results consistently show high accuracy, it suggests that your model is likely to perform well on the test set. However, the actual test accuracy may vary, especially if the test data is substantially different from the validation data.\n",
        "\n",
        "In summary, cross-validation provides a more accurate estimate of how well your model generalizes to unseen data from the same population as your training and validation sets. While it's a valuable tool for model evaluation and selection, the true test accuracy is determined by evaluating the model on a separate, held-out test set that was not used during model development.\n",
        "\n",
        "\n",
        "\n",
        "\n",
        "\n",
        "\n",
        "Regenerate\n"
      ],
      "metadata": {
        "id": "PZy0immaPdb9"
      }
    },
    {
      "cell_type": "markdown",
      "source": [
        "#3RD Q"
      ],
      "metadata": {
        "id": "J6ZzcCC5Pu_j"
      }
    },
    {
      "cell_type": "markdown",
      "source": [
        "The number of iterations in a cross-validation procedure can have an impact on the accuracy of the estimate of your model's performance. Generally, increasing the number of iterations (or folds) can lead to a more robust and reliable estimate, but it comes with trade-offs in terms of computational cost and variance in the estimate.\n",
        "\n",
        "Here's how the number of iterations affects the estimate:\n",
        "\n",
        "Fewer Iterations (Folds):\n",
        "\n",
        "Pros:\n",
        "Faster to compute since you are training and validating the model fewer times.\n",
        "Requires less computational resources.\n",
        "Cons:\n",
        "The estimate may have higher variance because it's based on a smaller number of validation sets.\n",
        "It may be sensitive to the specific data splits in each iteration.\n",
        "More Iterations (Folds):\n",
        "\n",
        "Pros:\n",
        "Tends to provide a more stable and less variable estimate of model performance.\n",
        "Reduces the sensitivity to the specific data splits because each data point participates in the validation set multiple times.\n",
        "Cons:\n",
        "Requires more computation time and resources as you train and validate the model more times.\n",
        "In practice, the choice of the number of iterations (often referred to as \"k\" in k-fold cross-validation) should be a balance between computational resources and the desire for a reliable estimate. Common choices for k are 5-fold, 10-fold, and sometimes 3-fold or 4-fold.\n",
        "\n",
        "Here are some considerations:\n",
        "\n",
        "For small to moderately sized datasets, 5-fold or 10-fold cross-validation is often sufficient to obtain a reasonably stable estimate of model performance.\n",
        "\n",
        "For very large datasets, you might consider using smaller values of k (e.g., 3-fold or 4-fold) to reduce computation time.\n",
        "\n",
        "If computational resources are not a limiting factor, using a larger value of k can provide a more robust estimate of model performance.\n",
        "\n",
        "Extremely large values of k (e.g., leave-one-out cross-validation, where k is equal to the number of data points) can be computationally expensive and may not always lead to a substantially better estimate, especially if the dataset is noisy.\n",
        "\n",
        "In summary, increasing the number of iterations (folds) in cross-validation can generally provide a more stable and reliable estimate of model performance, but it also increases computational demands. The choice of the number of iterations should be based on practical considerations, such as the size of your dataset and available computational resources, while aiming for a balance between accuracy and efficiency."
      ],
      "metadata": {
        "id": "Ugau-tgMPxKq"
      }
    },
    {
      "cell_type": "markdown",
      "source": [
        "#4TH Q"
      ],
      "metadata": {
        "id": "RY2Mohy-QBXs"
      }
    },
    {
      "cell_type": "markdown",
      "source": [
        "Increasing the number of iterations (folds) in cross-validation can help mitigate the impact of having a very small train or validation dataset to some extent, but it may not completely overcome the limitations of extremely small datasets. Here's how it works:\n",
        "\n",
        "Benefits of Increasing Iterations:\n",
        "\n",
        "When you have a very small dataset, each fold in cross-validation will also be small, which can lead to unstable and unreliable performance estimates.\n",
        "Increasing the number of iterations (i.e., using a higher k value) means that you'll create more subsets for training and validation. This can help in reducing the variability in the performance estimates because each data point will have more chances to participate in the validation set.\n",
        "It can provide a more robust estimate of how well the model generalizes, even when the individual subsets (folds) are small.\n",
        "Limitations of Extremely Small Datasets:\n",
        "\n",
        "While increasing iterations can improve stability, it doesn't fundamentally change the amount of data you have available for training and validation.\n",
        "If your dataset is extremely small, even with many iterations, each fold may still be too small to effectively train a complex machine learning model. This can lead to underfitting and poor model performance.\n",
        "Trade-offs:\n",
        "\n",
        "Using a very high number of iterations (e.g., leave-one-out cross-validation) with an already small dataset can be computationally expensive and may not provide substantial benefits in terms of more reliable estimates.\n",
        "There's a balance to strike between the number of iterations and the size of each fold. If you have a very small dataset, you might choose a moderate k value (e.g., 5-fold) to strike a balance between computational efficiency and the reliability of estimates.\n",
        "In summary, increasing the number of iterations in cross-validation can help improve the reliability of performance estimates when dealing with small train or validation datasets. However, it cannot completely compensate for the limitations of extremely small datasets, and you may still encounter issues related to underfitting and limited data for training. The choice of the number of iterations should be made while considering the trade-offs between computational resources and the need for stable performance estimates."
      ],
      "metadata": {
        "id": "xnBaW9RjQHlM"
      }
    }
  ]
}